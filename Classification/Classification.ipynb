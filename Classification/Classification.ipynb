{
  "nbformat": 4,
  "nbformat_minor": 0,
  "metadata": {
    "colab": {
      "provenance": []
    },
    "kernelspec": {
      "name": "python3",
      "display_name": "Python 3"
    },
    "language_info": {
      "name": "python"
    }
  },
  "cells": [
    {
      "cell_type": "code",
      "execution_count": 2,
      "metadata": {
        "id": "xWHcTwV51kea"
      },
      "outputs": [],
      "source": [
        "import pandas as pd\n",
        "import numpy as np\n",
        "from sklearn.neighbors import KNeighborsClassifier\n",
        "from sklearn.tree import DecisionTreeClassifier\n",
        "from sklearn.svm import SVC\n",
        "from sklearn.ensemble import RandomForestClassifier\n",
        "from sklearn.decomposition import PCA\n",
        "from sklearn.feature_selection import SequentialFeatureSelector\n",
        "from sklearn.neighbors import KNeighborsClassifier\n",
        "from sklearn.feature_selection import SelectFromModel\n",
        "import matplotlib.pyplot as plt\n",
        "import time"
      ]
    },
    {
      "cell_type": "code",
      "source": [
        "from sklearn.model_selection import GridSearchCV\n",
        "def searchCV(X, y, params, estimator, folds=5):\n",
        "    clf = GridSearchCV(estimator=estimator, param_grid=params, cv=folds)\n",
        "    clf.fit(X, y)\n",
        "    return clf, clf.best_estimator_, clf.best_score_, \\\n",
        "        clf.cv_results_.get('params'), clf.cv_results_.get('mean_test_score'), \\\n",
        "        clf.cv_results_.get('rank_test_score')"
      ],
      "metadata": {
        "id": "32QR3v7F8Pio"
      },
      "execution_count": 3,
      "outputs": []
    },
    {
      "cell_type": "code",
      "source": [
        "import matplotlib.pyplot as plt\n",
        "import time\n",
        "\n",
        "def preprocess(data: pd.DataFrame, percent: float):\n",
        "    idx = int(data.shape[0] * percent)\n",
        "    train = data[:idx]\n",
        "    test = data[idx:]\n",
        "    train_X = train.to_numpy()[:, 1:]\n",
        "    train_y = train.to_numpy()[:, 0]\n",
        "    test_X = test.to_numpy()[:, 1:]\n",
        "    test_y = test.to_numpy()[:, 0]\n",
        "\n",
        "    return train_X, train_y, test_X, test_y\n",
        "\n",
        "def data_process() -> dict:\n",
        "    data_path = \"/content/drive/MyDrive/514_assignment2/letter-recognition.data\"\n",
        "    data = pd.read_csv(data_path, header=None)\n",
        "    HK = data.loc[(data[0] == 'H') | (data[0] == 'K')]\n",
        "    MY = data.loc[(data[0] == 'M') | (data[0] == 'Y')]\n",
        "    LU = data.loc[(data[0] == 'L') | (data[0] == 'U')]\n",
        "    return {\n",
        "        'HK': preprocess(HK, .9),\n",
        "        'MY': preprocess(MY, .9),\n",
        "        'LU': preprocess(LU, .9)\n",
        "    }"
      ],
      "metadata": {
        "id": "RGM5GuDhyRn3"
      },
      "execution_count": 4,
      "outputs": []
    },
    {
      "cell_type": "code",
      "source": [
        "def plot_param_score(title, score, params, best_idx, dimensionReductionMethod):\n",
        "    labels = []\n",
        "    for _params in params:\n",
        "        label = ''\n",
        "        for param in _params:\n",
        "            label += f'{param}: {_params[param]}\\n'\n",
        "        labels.append(label)\n",
        "    plt.figure(figsize=(int(len(score)/1.5), 5))\n",
        "    plt.ylabel(\"Scores\")\n",
        "    plt.xlabel(\"Hyperparams\")\n",
        "    plt.plot(labels, score, marker='o')\n",
        "    plt.title(f'{title}\\nBest Param(s): {labels[best_idx]}\\nBest Score: {score[best_idx]}\\nDimension Reduction Method: {dimensionReductionMethod}')\n",
        "    plt.xticks(rotation=60)\n",
        "    plt.tight_layout()\n",
        "    for i in range(len(score)):\n",
        "        plt.annotate(round(score[i], 5), (labels[i], score[i]))\n",
        "    plt.savefig(f'{title}_{dimensionReductionMethod}')\n",
        "    plt.clf()"
      ],
      "metadata": {
        "id": "_Zg_ubG20VAL"
      },
      "execution_count": 5,
      "outputs": []
    },
    {
      "cell_type": "code",
      "source": [
        "#There are other dimension reduction methods I need, now I use PCA method, you can copy the method you need into the next module.\n",
        "'''\n",
        "    pca = PCA(n_components=4)\n",
        "    ffs = SequentialFeatureSelector(KNeighborsClassifier(\n",
        "        n_neighbors=3), n_features_to_select=4)\n",
        "    bfe = SequentialFeatureSelector(KNeighborsClassifier(\n",
        "        n_neighbors=3), n_features_to_select=4, direction='backward')\n",
        "    forest = SelectFromModel(\n",
        "        estimator=RandomForestClassifier(), max_features=4)\n",
        "    '''\n",
        "\n",
        "'''\n",
        "\n",
        "        'pca': [\n",
        "            pca.fit_transform(train_X),\n",
        "            pca.transform(test_X)\n",
        "        ],\n",
        "    \n",
        "        'forwardFeatureSelection': [\n",
        "            ffs.fit_transform(train_X, train_y),\n",
        "            ffs.transform(test_X)\n",
        "        ],\n",
        "        'backwardFeatureElimination': [\n",
        "            bfe.fit_transform(train_X, train_y),\n",
        "            bfe.transform(test_X)\n",
        "        ],\n",
        "        'randomForest': [\n",
        "            forest.fit_transform(train_X, train_y), \n",
        "            forest.transform(test_X)\n",
        "        ],\n",
        "    }\n",
        "'''"
      ],
      "metadata": {
        "id": "U0gLmq29Qm6a"
      },
      "execution_count": null,
      "outputs": []
    },
    {
      "cell_type": "code",
      "source": [
        "def dimension_reduction(train_X, test_X, train_y=None):\n",
        "\n",
        "    pca = PCA(n_components=4)\n",
        "    \n",
        "    return {\n",
        "        'none': [\n",
        "            train_X,\n",
        "            test_X\n",
        "        ],\n",
        "\n",
        "        'pca': [\n",
        "            pca.fit_transform(train_X),\n",
        "            pca.transform(test_X)\n",
        "        ]\n",
        "    }\n",
        "\n",
        "    "
      ],
      "metadata": {
        "id": "YwlfCoNO8W8p"
      },
      "execution_count": 8,
      "outputs": []
    },
    {
      "cell_type": "code",
      "source": [
        "#There are other models I used, now I use KNN Classifier, you can copy the method you need into the next module.\n",
        "'''\n",
        "                KNeighborsClassifier(): {\n",
        "                    'n_neighbors': [1, 2, 3, 4, 5],\n",
        "                    'algorithm': ('ball_tree', 'kd_tree', 'brute')\n",
        "                },\n",
        "                DecisionTreeClassifier(): {\n",
        "                    'max_depth': [11, 14, 16, 17, 8],\n",
        "                    'min_samples_leaf': [4, 5, 6, 7, 8]\n",
        "                },\n",
        "                SVC(): {\n",
        "                    'C': [3.0, 4.0, 5.0, 6.0, 7.0],\n",
        "                    'kernel': ['linear', 'poly', 'rbf'],\n",
        "                    'max_iter':[100, 200, 300, 400, 500]\n",
        "                },\n",
        "                RandomForestClassifier(): {\n",
        "                    'n_estimators': [100, 200, 300, 400, 500],\n",
        "                    'max_depth': [None, 2, 4, 6, 8]\n",
        "                }\n",
        "                \n",
        "            }\n",
        "'''\n"
      ],
      "metadata": {
        "id": "Ja-kOAXiPNzC"
      },
      "execution_count": null,
      "outputs": []
    },
    {
      "cell_type": "code",
      "source": [
        "if __name__ == '__main__':\n",
        "    with open('results.yml', 'a') as f:\n",
        "      pairs = data_process()\n",
        "      for pair in pairs:\n",
        "            f.write(f'\\n###### Current Pair: {pair}')\n",
        "            print('\\n###### Current Pair: ', pair)\n",
        "            train_X, train_y, test_X, test_y = pairs[pair]\n",
        "\n",
        "            # Model, other models can be seen above.\n",
        "            models = {\n",
        "                KNeighborsClassifier(): {\n",
        "                    'n_neighbors': [1, 2, 3, 4, 5],\n",
        "                    'algorithm': ('ball_tree', 'kd_tree', 'brute')\n",
        "                }\n",
        "            }\n",
        "\n",
        "            dReduction = dimension_reduction(train_X=train_X, test_X=test_X, train_y=train_y)\n",
        "            plt_model_lb = []\n",
        "\n",
        "            for model in models:\n",
        "                f.write(f'\\n##Model: {str(model)}')\n",
        "                print(f'\\n##Model: {str(model)}')\n",
        "                \n",
        "                for method in dReduction:\n",
        "                    f.write(f\"\\n###Dimension Reduction Method: {method}\")\n",
        "                    print(f\"\\n###Dimension Reduction Method: {method}\")\n",
        "                    data = dReduction[method]\n",
        "                  \n",
        "                    cv_result = searchCV(X=data[0], y=train_y,\n",
        "                                        params=models[model], estimator=model)\n",
        "  \n",
        "                    f.write(f\"Best Estimator: {cv_result[1]}, params: {str(cv_result[3][cv_result[5].tolist().index(1)])}\")\n",
        "                    print(f\"Best Estimator: {cv_result[1]}, params: {str(cv_result[3][cv_result[5].tolist().index(1)])}\")\n",
        "                    \n",
        "                    plot_param_score(f'{pair}-{str(model)}',\n",
        "                                    cv_result[4], cv_result[3], cv_result[5].tolist().index(1),method)\n",
        "                    clf = cv_result[0]\n",
        "                    score = clf.score(data[1], test_y)\n",
        "                    f.write(f\"Test Performance: {score}\")\n",
        "                    print(f\"Test Performance: {score}\")\n",
        "                    \n",
        "                    #you can uncomment the model you need\n",
        "                    start = time.time()\n",
        "                    KNeighborsClassifier()\n",
        "                    #DecisionTreeClassifier()\n",
        "                    #RandomForestClassifier()\n",
        "                    #SVC()\n",
        "                    end = time.time()\n",
        "                    print(\"KNN classify time before tune:\", end - start)"
      ],
      "metadata": {
        "colab": {
          "base_uri": "https://localhost:8080/",
          "height": 870
        },
        "id": "OAvkARFHXZEC",
        "outputId": "4a9da8c0-da38-46a0-d26a-a26e7f95e06f"
      },
      "execution_count": 9,
      "outputs": [
        {
          "output_type": "stream",
          "name": "stdout",
          "text": [
            "\n",
            "###### Current Pair:  HK\n",
            "\n",
            "##Model: KNeighborsClassifier()\n",
            "\n",
            "###Dimension Reduction Method: none\n",
            "Best Estimator: KNeighborsClassifier(algorithm='brute', n_neighbors=1), params: {'algorithm': 'brute', 'n_neighbors': 1}\n",
            "Test Performance: 0.9391891891891891\n",
            "KNN classify time before tune: 8.821487426757812e-06\n",
            "\n",
            "###Dimension Reduction Method: pca\n",
            "Best Estimator: KNeighborsClassifier(algorithm='ball_tree'), params: {'algorithm': 'ball_tree', 'n_neighbors': 5}\n",
            "Test Performance: 0.8918918918918919\n",
            "KNN classify time before tune: 1.3589859008789062e-05\n",
            "\n",
            "###### Current Pair:  MY\n",
            "\n",
            "##Model: KNeighborsClassifier()\n",
            "\n",
            "###Dimension Reduction Method: none\n",
            "Best Estimator: KNeighborsClassifier(algorithm='ball_tree', n_neighbors=1), params: {'algorithm': 'ball_tree', 'n_neighbors': 1}\n",
            "Test Performance: 1.0\n",
            "KNN classify time before tune: 1.0013580322265625e-05\n",
            "\n",
            "###Dimension Reduction Method: pca\n",
            "Best Estimator: KNeighborsClassifier(algorithm='ball_tree', n_neighbors=3), params: {'algorithm': 'ball_tree', 'n_neighbors': 3}\n",
            "Test Performance: 0.9936708860759493\n",
            "KNN classify time before tune: 8.58306884765625e-06\n",
            "\n",
            "###### Current Pair:  LU\n",
            "\n",
            "##Model: KNeighborsClassifier()\n",
            "\n",
            "###Dimension Reduction Method: none\n",
            "Best Estimator: KNeighborsClassifier(algorithm='ball_tree', n_neighbors=1), params: {'algorithm': 'ball_tree', 'n_neighbors': 1}\n",
            "Test Performance: 1.0\n",
            "KNN classify time before tune: 8.58306884765625e-06\n",
            "\n",
            "###Dimension Reduction Method: pca\n",
            "Best Estimator: KNeighborsClassifier(algorithm='ball_tree', n_neighbors=3), params: {'algorithm': 'ball_tree', 'n_neighbors': 3}\n",
            "Test Performance: 0.9746835443037974\n",
            "KNN classify time before tune: 1.4543533325195312e-05\n"
          ]
        },
        {
          "output_type": "display_data",
          "data": {
            "text/plain": [
              "<Figure size 1000x500 with 0 Axes>"
            ]
          },
          "metadata": {}
        },
        {
          "output_type": "display_data",
          "data": {
            "text/plain": [
              "<Figure size 1000x500 with 0 Axes>"
            ]
          },
          "metadata": {}
        },
        {
          "output_type": "display_data",
          "data": {
            "text/plain": [
              "<Figure size 1000x500 with 0 Axes>"
            ]
          },
          "metadata": {}
        },
        {
          "output_type": "display_data",
          "data": {
            "text/plain": [
              "<Figure size 1000x500 with 0 Axes>"
            ]
          },
          "metadata": {}
        },
        {
          "output_type": "display_data",
          "data": {
            "text/plain": [
              "<Figure size 1000x500 with 0 Axes>"
            ]
          },
          "metadata": {}
        },
        {
          "output_type": "display_data",
          "data": {
            "text/plain": [
              "<Figure size 1000x500 with 0 Axes>"
            ]
          },
          "metadata": {}
        }
      ]
    }
  ]
}